{
 "cells": [
  {
   "cell_type": "code",
   "execution_count": 5,
   "metadata": {},
   "outputs": [
    {
     "name": "stdout",
     "output_type": "stream",
     "text": [
      "  (1, 4548)\t1.0\n",
      "  (2, 2805)\t1.0\n",
      "  (3, 2029)\t1.0\n",
      "  (5, 4493)\t1.0\n",
      "  (7, 4439)\t1.0\n",
      "  (9, 3352)\t1.0\n",
      "  (10, 661)\t1.0\n",
      "  (11, 2029)\t1.0\n",
      "  (15, 6126)\t1.0\n",
      "  (21, 1446)\t1.0\n",
      "  (25, 4984)\t1.0\n",
      "  (26, 6313)\t1.0\n",
      "  (30, 1427)\t1.0\n",
      "  (34, 685)\t1.0\n",
      "  (35, 6126)\t1.0\n",
      "  (39, 5795)\t1.0\n",
      "  (42, 4548)\t1.0\n",
      "  (43, 2805)\t1.0\n",
      "  (44, 3518)\t1.0\n",
      "  (45, 3101)\t1.0\n",
      "  (47, 2029)\t1.0\n",
      "  (49, 4045)\t1.0\n",
      "  (51, 2805)\t0.39837961025063157\n",
      "  (51, 6417)\t0.5261234114323906\n",
      "  (51, 4069)\t0.4920332522426994\n",
      "  :\t:\n",
      "  (113906, 6295)\t1.0\n",
      "  (113907, 5356)\t1.0\n",
      "  (113908, 3102)\t1.0\n",
      "  (113909, 3186)\t1.0\n",
      "  (113911, 4548)\t1.0\n",
      "  (113912, 2805)\t0.5182918417689961\n",
      "  (113912, 3103)\t0.655566071545819\n",
      "  (113912, 5853)\t0.5491873019232\n",
      "  (113915, 3639)\t1.0\n",
      "  (113916, 1940)\t1.0\n",
      "  (113919, 4548)\t1.0\n",
      "  (113920, 2805)\t1.0\n",
      "  (113921, 3554)\t0.7071067811865476\n",
      "  (113921, 538)\t0.7071067811865476\n",
      "  (113922, 2587)\t1.0\n",
      "  (113925, 2909)\t1.0\n",
      "  (113926, 4526)\t1.0\n",
      "  (113928, 3909)\t1.0\n",
      "  (113929, 2030)\t1.0\n",
      "  (113932, 5620)\t1.0\n",
      "  (113935, 2082)\t1.0\n",
      "  (113936, 3916)\t1.0\n",
      "  (113938, 2883)\t1.0\n",
      "  (113940, 3909)\t1.0\n",
      "  (113941, 2030)\t1.0\n"
     ]
    }
   ],
   "source": [
    "from sklearn.feature_extraction.text import TfidfVectorizer\n",
    "\n",
    "with open(\"Pride-and-Prejudice.txt\") as file:\n",
    "    f = file.read()\n",
    "    f = f.split(\" \")\n",
    "    vectorizer = TfidfVectorizer(stop_words='english')\n",
    "    data = vectorizer.fit_transform(f)\n",
    "    \n",
    "print (data)"
   ]
  },
  {
   "cell_type": "code",
   "execution_count": null,
   "metadata": {},
   "outputs": [],
   "source": [
    "def paragraphs(file, separator=None):\n",
    "    paragraph = []\n",
    "    for line in file:\n",
    "        if separator(line):\n",
    "            if paragraph:\n",
    "                yield ''.join(paragraph)\n",
    "                paragraph = []\n",
    "        else:\n",
    "            paragraph.append(line)\n",
    "    yield ''.join(paragraph)"
   ]
  }
 ],
 "metadata": {
  "kernelspec": {
   "display_name": "Python 3",
   "language": "python",
   "name": "python3"
  },
  "language_info": {
   "codemirror_mode": {
    "name": "ipython",
    "version": 3
   },
   "file_extension": ".py",
   "mimetype": "text/x-python",
   "name": "python",
   "nbconvert_exporter": "python",
   "pygments_lexer": "ipython3",
   "version": "3.7.0"
  }
 },
 "nbformat": 4,
 "nbformat_minor": 2
}
