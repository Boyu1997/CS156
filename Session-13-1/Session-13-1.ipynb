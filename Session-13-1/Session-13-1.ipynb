{
 "cells": [
  {
   "cell_type": "code",
   "execution_count": 3,
   "metadata": {},
   "outputs": [],
   "source": [
    "from sklearn import datasets\n",
    "(moon_x,moon_y) = datasets.make_moons(n_samples=10000, noise=0.05, random_state=42)\n",
    "(circle_x,circle_y) = datasets.make_circles(n_samples=10000, noise=0.025, random_state=42)"
   ]
  },
  {
   "cell_type": "code",
   "execution_count": 24,
   "metadata": {},
   "outputs": [
    {
     "data": {
      "image/png": "[encoded data removed]",
      "text/plain": [
       "<Figure size 432x288 with 1 Axes>"
      ]
     },
     "metadata": {
      "needs_background": "light"
     },
     "output_type": "display_data"
    }
   ],
   "source": [
    "import matplotlib.pyplot as plt\n",
    "\n",
    "x = moon_x[:,0]\n",
    "y = moon_x[:,1]\n",
    "plt.scatter(x, y)\n",
    "plt.show()"
   ]
  },
  {
   "cell_type": "code",
   "execution_count": 30,
   "metadata": {},
   "outputs": [
    {
     "name": "stdout",
     "output_type": "stream",
     "text": [
      "Epoch 1/20\n",
      "10000/10000 [==============================] - 1s 104us/step - loss: 0.1399 - acc: 0.7922\n",
      "Epoch 2/20\n",
      "10000/10000 [==============================] - 1s 89us/step - loss: 0.0706 - acc: 0.8951: 0s - loss: 0.0751 - ac\n",
      "Epoch 3/20\n",
      "10000/10000 [==============================] - 1s 90us/step - loss: 0.0596 - acc: 0.9095\n",
      "Epoch 4/20\n",
      "10000/10000 [==============================] - 1s 87us/step - loss: 0.0508 - acc: 0.9288\n",
      "Epoch 5/20\n",
      "10000/10000 [==============================] - 1s 90us/step - loss: 0.0426 - acc: 0.9452\n",
      "Epoch 6/20\n",
      "10000/10000 [==============================] - 1s 89us/step - loss: 0.0337 - acc: 0.9622\n",
      "Epoch 7/20\n",
      "10000/10000 [==============================] - 1s 88us/step - loss: 0.0256 - acc: 0.9796\n",
      "Epoch 8/20\n",
      "10000/10000 [==============================] - 1s 89us/step - loss: 0.0182 - acc: 0.9898\n",
      "Epoch 9/20\n",
      "10000/10000 [==============================] - 1s 88us/step - loss: 0.0125 - acc: 0.9975: 0s - loss: 0.0146 -\n",
      "Epoch 10/20\n",
      "10000/10000 [==============================] - 1s 91us/step - loss: 0.0076 - acc: 0.9997\n",
      "Epoch 11/20\n",
      "10000/10000 [==============================] - 1s 91us/step - loss: 0.0039 - acc: 0.9999\n",
      "Epoch 12/20\n",
      "10000/10000 [==============================] - 1s 88us/step - loss: 0.0020 - acc: 1.0000\n",
      "Epoch 13/20\n",
      "10000/10000 [==============================] - 1s 89us/step - loss: 0.0011 - acc: 1.0000\n",
      "Epoch 14/20\n",
      "10000/10000 [==============================] - 1s 89us/step - loss: 5.9820e-04 - acc: 1.0000: 0s - loss: 5.9040e-04 - acc: 1.00\n",
      "Epoch 15/20\n",
      "10000/10000 [==============================] - 1s 90us/step - loss: 3.4905e-04 - acc: 1.0000\n",
      "Epoch 16/20\n",
      "10000/10000 [==============================] - 1s 91us/step - loss: 2.3008e-04 - acc: 1.0000\n",
      "Epoch 17/20\n",
      "10000/10000 [==============================] - 1s 89us/step - loss: 1.6144e-04 - acc: 1.0000\n",
      "Epoch 18/20\n",
      "10000/10000 [==============================] - 1s 89us/step - loss: 1.1257e-04 - acc: 1.0000\n",
      "Epoch 19/20\n",
      "10000/10000 [==============================] - 1s 91us/step - loss: 9.1061e-05 - acc: 1.0000: 0s - loss: 1.0431e-04 - acc:\n",
      "Epoch 20/20\n",
      "10000/10000 [==============================] - 1s 96us/step - loss: 6.9943e-05 - acc: 1.0000\n",
      "10000/10000 [==============================] - 0s 19us/step\n",
      "\n",
      "acc: 100.00%\n"
     ]
    }
   ],
   "source": [
    "from keras.models import Sequential\n",
    "from keras.layers import Dense\n",
    "\n",
    "model = Sequential()\n",
    "model.add(Dense(10, input_dim=2, activation='relu'))\n",
    "model.add(Dense(1, activation='sigmoid'))\n",
    "\n",
    "model.compile(loss='mean_squared_error', optimizer='rmsprop', metrics=['accuracy'])\n",
    "\n",
    "model.fit(moon_x, moon_y, epochs=20, batch_size=10)\n",
    "\n",
    "scores = model.evaluate(moon_x, moon_y)\n",
    "print(\"\\n%s: %.2f%%\" % (model.metrics_names[1], scores[1]*100))"
   ]
  },
  {
   "cell_type": "code",
   "execution_count": null,
   "metadata": {},
   "outputs": [],
   "source": []
  },
  {
   "cell_type": "code",
   "execution_count": null,
   "metadata": {},
   "outputs": [],
   "source": []
  }
 ],
 "metadata": {
  "kernelspec": {
   "display_name": "Python 3",
   "language": "python",
   "name": "python3"
  },
  "language_info": {
   "codemirror_mode": {
    "name": "ipython",
    "version": 3
   },
   "file_extension": ".py",
   "mimetype": "text/x-python",
   "name": "python",
   "nbconvert_exporter": "python",
   "pygments_lexer": "ipython3",
   "version": "3.7.1"
  }
 },
 "nbformat": 4,
 "nbformat_minor": 2
}
