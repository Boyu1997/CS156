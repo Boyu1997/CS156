{
 "cells": [
  {
   "cell_type": "markdown",
   "metadata": {},
   "source": [
    "## Flu in the class:\n",
    "\n",
    "We have a classroom containing N students all taking the same class during a flu epidemic. We assume that a students probability of getting the flu only depends on the people that they interact with.\n",
    "\n",
    "Consider the following models:\n",
    "\n",
    "### A. General:\n",
    "The general case occurs when we know nothing about which students meet and we decide to model all possible interactions (i.e. assuming that there is no conditional independence between any of the students).\n",
    "\n",
    "### B. Independence:\n",
    "A much simpler model assuming full independence between every student. (This is equivalent to none of the students interacting with each other after class.)\n",
    "\n",
    "### C. Groups:\n",
    "A model in which every student belongs to a study group of 5 people.\n",
    "\n",
    "### D. Tutors:\n",
    "There are 10 class tutors in the class. Each student meets only one class tutor in isolation. The class tutors are drawn from the N students. There isn’t enough time for a student to infect a tutor and the tutor to then infect another student.\n",
    "\n",
    "For each model, do the following:\n",
    "\n",
    "Write out the factorized joint probability P(X₁, X₂, …, Xᵢ), where each Xⱼ is a binary variable that can take the value “Sick” or “Healthy”.\n",
    "\n",
    "Show how this would be represented as a graphical model on a whiteboard (have an image of the model ready to share).\n",
    "\n",
    "Calculate how many parameters would be required to fully specify the model."
   ]
  },
  {
   "cell_type": "markdown",
   "metadata": {},
   "source": [
    "General:\n",
    "P = P(X_1|X_2, X_3,..., X_n) * P(X_2|X_1, X_3,..., X_n) * ... * P(X_n-1|X_1, X_2,..., X_n-3, X_n-2, X_n) * P(X_n|X_1, X_2,..., X_n-2, X_n-1)\n",
    "Independence:\n",
    "P = P(X_1) * P(X_2) * ... * P(X_n-1) * P(X_n)"
   ]
  },
  {
   "cell_type": "markdown",
   "metadata": {},
   "source": [
    "Independence\n",
    "P(X_1, X_2, X_3,..., X_n) = P(X_1) * P(X_2) * P(X_3) * ... * P(X_n-2) * P(X_n-1) * P(X_n)"
   ]
  }
 ],
 "metadata": {
  "kernelspec": {
   "display_name": "Python 3",
   "language": "python",
   "name": "python3"
  },
  "language_info": {
   "codemirror_mode": {
    "name": "ipython",
    "version": 3
   },
   "file_extension": ".py",
   "mimetype": "text/x-python",
   "name": "python",
   "nbconvert_exporter": "python",
   "pygments_lexer": "ipython3",
   "version": "3.6.4"
  }
 },
 "nbformat": 4,
 "nbformat_minor": 2
}
