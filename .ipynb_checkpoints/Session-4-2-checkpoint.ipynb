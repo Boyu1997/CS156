{
 "cells": [
  {
   "cell_type": "code",
   "execution_count": 2,
   "metadata": {},
   "outputs": [],
   "source": [
    "from math import factorial\n",
    "\n",
    "# data\n",
    "heads = [14, 33, 19, 10, 0, 17, 24, 17, 1, 36, 5, 6, 5, 13, 4, 35, 5, 5, 74, 34]\n",
    "throws = [41, 43, 23, 23, 1, 23, 36, 37, 2, 131, 5, 29, 13, 47, 10, 58, 15, 14, 100, 113]"
   ]
  },
  {
   "cell_type": "code",
   "execution_count": 17,
   "metadata": {},
   "outputs": [
    {
     "name": "stdout",
     "output_type": "stream",
     "text": [
      "A: 0.6934779760934344 B: 0.3112693861159483\n"
     ]
    }
   ],
   "source": [
    "# make assumption for coin A and B\n",
    "A = 0.6\n",
    "B = 0.4\n",
    "\n",
    "for i in range(100):\n",
    "    A_head = 0\n",
    "    A_throw = 0\n",
    "    B_head = 0\n",
    "    B_throw = 0\n",
    "    for head, throw in zip(heads, throws):\n",
    "        fraction = factorial(throw)//factorial(head)//factorial(throw-head)\n",
    "        E_if_A = fraction * A**head * (1-A)**(throw-head)\n",
    "        E_if_B = fraction * B**head * (1-B)**(throw-head)\n",
    "        A_if_E = E_if_A / (E_if_A + E_if_B)\n",
    "        B_if_E = E_if_B / (E_if_A + E_if_B)\n",
    "        A_head += A_if_E * head\n",
    "        A_throw += A_if_E * throw\n",
    "        B_head += B_if_E * head\n",
    "        B_throw += B_if_E * throw\n",
    "    A = A_head / A_throw\n",
    "    B = B_head / B_throw\n",
    "    \n",
    "print (\"A:\", A, \"B:\", B)"
   ]
  },
  {
   "cell_type": "code",
   "execution_count": null,
   "metadata": {},
   "outputs": [],
   "source": []
  }
 ],
 "metadata": {
  "kernelspec": {
   "display_name": "Python 3",
   "language": "python",
   "name": "python3"
  },
  "language_info": {
   "codemirror_mode": {
    "name": "ipython",
    "version": 3
   },
   "file_extension": ".py",
   "mimetype": "text/x-python",
   "name": "python",
   "nbconvert_exporter": "python",
   "pygments_lexer": "ipython3",
   "version": "3.6.4"
  }
 },
 "nbformat": 4,
 "nbformat_minor": 2
}
