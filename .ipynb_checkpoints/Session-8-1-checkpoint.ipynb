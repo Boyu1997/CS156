{
 "cells": [
  {
   "cell_type": "code",
   "execution_count": 3,
   "metadata": {},
   "outputs": [],
   "source": [
    "import numpy as np\n",
    "\n",
    "def generate_sample(sample_size):\n",
    "    X_1 = np.random.normal(loc=5, scale=2, size=sample_size*2)\n",
    "    X_1 = X_1.reshape(sample_size, 2)\n",
    "    Y_1 = np.zeros(sample_size)\n",
    "    X_2 = np.random.normal(loc=2, scale=1, size=sample_size*2)\n",
    "    X_2 = X_2.reshape(sample_size, 2)\n",
    "    Y_2 = np.ones(sample_size)\n",
    "\n",
    "    X = np.concatenate([X_1, X_2])\n",
    "    Y = np.concatenate([Y_1, Y_2])\n",
    "    \n",
    "    return X, Y"
   ]
  },
  {
   "cell_type": "code",
   "execution_count": null,
   "metadata": {},
   "outputs": [],
   "source": [
    "from sklearn.model_selection import train_test_split\n",
    "from sklearn import svm\n",
    "import time\n",
    "\n",
    "training_time = []\n",
    "for i in range(1,12):\n",
    "    sample_size = 2000 * i\n",
    "    X, Y = generate_sample(sample_size)\n",
    "    X_train, X_test, Y_train, Y_test = train_test_split(X, Y, test_size = 1000, random_state=10)\n",
    "    \n",
    "    clf = svm.SVC(gamma='scale')\n",
    "    start = time.time()\n",
    "    clf.fit(X_train, Y_train)  \n",
    "    training_time.append(time.time() - start)\n",
    "    clf.score(X_test, Y_test)\n",
    "    \n",
    "print (training_time)"
   ]
  },
  {
   "cell_type": "code",
   "execution_count": null,
   "metadata": {},
   "outputs": [],
   "source": []
  }
 ],
 "metadata": {
  "kernelspec": {
   "display_name": "Python 3",
   "language": "python",
   "name": "python3"
  },
  "language_info": {
   "codemirror_mode": {
    "name": "ipython",
    "version": 3
   },
   "file_extension": ".py",
   "mimetype": "text/x-python",
   "name": "python",
   "nbconvert_exporter": "python",
   "pygments_lexer": "ipython3",
   "version": "3.7.0"
  }
 },
 "nbformat": 4,
 "nbformat_minor": 1
}
