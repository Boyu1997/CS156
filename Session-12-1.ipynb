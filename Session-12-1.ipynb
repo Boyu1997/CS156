{
 "cells": [
  {
   "cell_type": "code",
   "execution_count": 8,
   "metadata": {},
   "outputs": [
    {
     "name": "stdout",
     "output_type": "stream",
     "text": [
      "ABC\n"
     ]
    }
   ],
   "source": [
    "def decode(c):\n",
    "    if c is \"A\":\n",
    "        return 0\n",
    "    if c is \"B\":\n",
    "        return 1\n",
    "    if c is \"C\":\n",
    "        return 2\n",
    "\n",
    "text = \"AAABACCAB\"\n",
    "\n",
    "print (''.join(set(text)))"
   ]
  },
  {
   "cell_type": "code",
   "execution_count": 9,
   "metadata": {},
   "outputs": [],
   "source": [
    "def decode(c):\n",
    "    if c is \"A\":\n",
    "        return 0\n",
    "    if c is \"B\":\n",
    "        return 1\n",
    "    if c is \"C\":\n",
    "        return 2"
   ]
  },
  {
   "cell_type": "code",
   "execution_count": 12,
   "metadata": {},
   "outputs": [
    {
     "name": "stdout",
     "output_type": "stream",
     "text": [
      "0.3111111111111111\n",
      "0.3111111111111111\n",
      "0.38888888888888884\n",
      "0.3111111111111111\n",
      "0.7222222222222222\n",
      "0.7222222222222222\n",
      "0.3111111111111111\n",
      "0.38888888888888884\n"
     ]
    }
   ],
   "source": [
    "transition = [\n",
    "    [\n",
    "        [3/5, 1/3, 3/4],\n",
    "        [1/5, 1/3, 0  ],\n",
    "        [1/5, 1/3, 1/4]\n",
    "    ],\n",
    "    [\n",
    "        [0,   1/6, 3/4],\n",
    "        [2/5, 2/6, 0],\n",
    "        [3/5, 3/6, 1/4]\n",
    "    ],\n",
    "    [\n",
    "        [1/3, 2/3, 4/6],\n",
    "        [2/3, 0,   1/6],\n",
    "        [0,   1/3, 1/6]\n",
    "    ],\n",
    "]\n",
    "\n",
    "# assume equal likelihood of each spearket to occur\n",
    "speaker = [1/3, 1/3, 1/3]\n",
    "\n",
    "# P(speaker i at time t+1 | speaker j at time t)\n",
    "last_phoneme = text[0]\n",
    "for i in range(1, len(text)):\n",
    "    this_phoneme = text[i]\n",
    "    P = 0\n",
    "    # loop through the speakers\n",
    "    for j in range(3):\n",
    "        # ∑ P(transition | speaker) * P(speaker)\n",
    "        P += transition[j][decode(last_phoneme)][decode(this_phoneme)] * speaker[j]\n",
    "    print (P)"
   ]
  },
  {
   "cell_type": "code",
   "execution_count": null,
   "metadata": {},
   "outputs": [],
   "source": []
  }
 ],
 "metadata": {
  "kernelspec": {
   "display_name": "Python 3",
   "language": "python",
   "name": "python3"
  },
  "language_info": {
   "codemirror_mode": {
    "name": "ipython",
    "version": 3
   },
   "file_extension": ".py",
   "mimetype": "text/x-python",
   "name": "python",
   "nbconvert_exporter": "python",
   "pygments_lexer": "ipython3",
   "version": "3.7.0"
  }
 },
 "nbformat": 4,
 "nbformat_minor": 2
}
