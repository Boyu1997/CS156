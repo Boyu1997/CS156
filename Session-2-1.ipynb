{
 "cells": [
  {
   "cell_type": "markdown",
   "metadata": {},
   "source": [
    "## Playing the lottery\n",
    "Total number of combinations:\n",
    "\\begin{align}\n",
    "C_6^{46} & = \\frac{46!}{(46-6)!\\times6!} \\\\\n",
    "         & = \\frac{46!}{(40)!\\times6!} \\\\\n",
    "         & = 9366819\n",
    "\\end{align}\n",
    "The chance of winning:\n",
    "\\begin{align}\n",
    "P & = \\frac{1}{C_6^{46}}\n",
    "  & = \\frac{1}{9366819}\n",
    "\\end{align}\n",
    "Assume the utility of daydreaming is $u$,\n",
    "\n",
    "so the utility of watching movie is $1.1u$,\n",
    "\n",
    "and the utility of winning lottery is $10^6u$\n",
    "\n",
    "The expected utility of plying the lottery is:\n",
    "\\begin{align}\n",
    "E(lottery) & = (1-\\frac{1}{9366819})u + \\frac{1}{9366819}10^6u \\\\\n",
    "           & = \\frac{44875}{40549}u \\\\\n",
    "           & = 1.1067u\n",
    "\\end{align}\n",
    "The expected utility of watching movie is is:\n",
    "$$E(movie) = 1.1u$$\n",
    "As $1.1067u > 1.1u$, plying lottery is the better option.\n",
    "The expected financial impact of playing this lottery is:\n",
    "\\begin{align}\n",
    "E(income) & = -10(1-\\frac{1}{9366819}) + 10^8\\frac{1}{9366819} \\\\\n",
    "          & = \\frac{575620}{851529} \\\\\n",
    "          & = 0.6760\n",
    "\\end{align}"
   ]
  },
  {
   "cell_type": "markdown",
   "metadata": {},
   "source": [
    "## Cancer Screening test"
   ]
  },
  {
   "cell_type": "code",
   "execution_count": 1,
   "metadata": {},
   "outputs": [
    {
     "name": "stdout",
     "output_type": "stream",
     "text": [
      "The probability of a positive test result is: 0.060\n",
      "The probability of a negative test result is: 0.940\n",
      "It is better to operate with a positive test result!\n",
      "It is better to ignore the negative test result!\n",
      "The expected utility of the test is: 75.866000\n"
     ]
    }
   ],
   "source": [
    "u = {\n",
    "     \"healthy\":100.0,\n",
    "     \"late-stage cancer\":-10000.0,\n",
    "     \"surgery\": -50.0,\n",
    "    }\n",
    "\n",
    "p = {\n",
    "     \"FP\": 0.05,  # False Positive\n",
    "     \"TP\": 0.01,  # True Positive\n",
    "     \"FN\": 0.001,  # False Negative\n",
    "     \"TN\": 0.939,  # True Negative\n",
    "     }\n",
    "\n",
    "assert 1.0 == p[\"FP\"]+p[\"TP\"]+p[\"FN\"]+p[\"TN\"]\n",
    "\n",
    "# Given the various outcomes of the test, we can infer stats on the test:\n",
    "p[\"positive\"] = p[\"TP\"] + p[\"FP\"]\n",
    "p[\"negative\"] = p[\"TN\"] + p[\"FN\"]\n",
    "\n",
    "print(\"The probability of a positive test result is: %0.3f\"%p[\"positive\"])\n",
    "print(\"The probability of a negative test result is: %0.3f\"%p[\"negative\"])\n",
    "\n",
    "\n",
    "# Calculate the expected utility of ignoring a positive test:\n",
    "expected_positive_ignore_utility = p[\"FP\"] * u[\"healthy\"] + p[\"TP\"]*u[\"late-stage cancer\"]\n",
    "\n",
    "# Calculate the expected utility of operating (given a positive test)\n",
    "# Also we assume that the surgery is 100% reliable:\n",
    "expected_positive_operate_utility = u[\"surgery\"]\n",
    "\n",
    "if expected_positive_ignore_utility > expected_positive_operate_utility:\n",
    "    print(\"It is better to ignore the positive test result!\")\n",
    "else:\n",
    "    print(\"It is better to operate with a positive test result!\")\n",
    "expected_positive = max(expected_positive_ignore_utility, expected_positive_operate_utility)\n",
    "\n",
    "expected_negative_ignore_utility = p[\"FN\"] * u[\"late-stage cancer\"] + p[\"TN\"]*u[\"healthy\"]\n",
    "\n",
    "# Calculate the expected utility of operating (given a negative test)\n",
    "# Also we assume that the surgery is 100% reliable:\n",
    "expected_negative_operate_utility = u[\"surgery\"]\n",
    "\n",
    "if expected_negative_ignore_utility > expected_negative_operate_utility:\n",
    "    print(\"It is better to ignore the negative test result!\")\n",
    "else:\n",
    "    print(\"It is better to operate with a negative test result!\")\n",
    "\n",
    "expected_negative = max(expected_negative_ignore_utility, expected_negative_operate_utility)\n",
    "\n",
    "expected_test_utility = p[\"positive\"]*expected_positive + p[\"negative\"]*expected_negative\n",
    "print(\"The expected utility of the test is: %f\" % expected_test_utility)"
   ]
  },
  {
   "cell_type": "code",
   "execution_count": null,
   "metadata": {},
   "outputs": [],
   "source": []
  }
 ],
 "metadata": {
  "kernelspec": {
   "display_name": "Python 3",
   "language": "python",
   "name": "python3"
  },
  "language_info": {
   "codemirror_mode": {
    "name": "ipython",
    "version": 3
   },
   "file_extension": ".py",
   "mimetype": "text/x-python",
   "name": "python",
   "nbconvert_exporter": "python",
   "pygments_lexer": "ipython3",
   "version": "3.6.4"
  }
 },
 "nbformat": 4,
 "nbformat_minor": 2
}
