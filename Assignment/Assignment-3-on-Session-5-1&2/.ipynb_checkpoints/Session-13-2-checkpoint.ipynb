{
 "cells": [
  {
   "cell_type": "code",
   "execution_count": 6,
   "metadata": {},
   "outputs": [],
   "source": [
    "from PIL import Image\n",
    "import glob\n",
    "import numpy as np\n",
    "\n",
    "def extract_image_data(file_path):\n",
    "    extracted_set = []\n",
    "    for filename in glob.glob(file_path):\n",
    "        img = Image.open(filename) \n",
    "        img = img.resize((100,100))   # reshape to 200 * 200 pixel for model analysis\n",
    "        data = list(img.getdata())   # extract image to RGB data points\n",
    "        img.close()\n",
    "        data = np.array(list(map(list, data))) # convert the data into 3D list\n",
    "        extracted_set.append(data)\n",
    "    return extracted_set\n",
    "        \n",
    "man_clothing = extract_image_data('Man-Clothing/*.JPEG')\n",
    "woman_clothing = extract_image_data('Woman-Clothing/*.JPEG')\n",
    "\n",
    "X = np.array(man_clothing + woman_clothing)\n",
    "X = X.reshape(400, 100, 100, 3)\n",
    "Y = np.array([0] * len(man_clothing) + [1] * len(woman_clothing))\n",
    "Y = Y.reshape(Y.shape[0], )"
   ]
  },
  {
   "cell_type": "code",
   "execution_count": 8,
   "metadata": {},
   "outputs": [
    {
     "name": "stdout",
     "output_type": "stream",
     "text": [
      "(400, 3, 3, 512)\n"
     ]
    }
   ],
   "source": [
    "from keras.applications.vgg16 import VGG16\n",
    "\n",
    "model = VGG16(weights='imagenet', include_top=False, input_shape=(100,100,3))\n",
    "features = model.predict(X)\n",
    "\n",
    "print (features.shape)"
   ]
  },
  {
   "cell_type": "code",
   "execution_count": 29,
   "metadata": {
    "scrolled": false
   },
   "outputs": [
    {
     "name": "stdout",
     "output_type": "stream",
     "text": [
      "_________________________________________________________________\n",
      "Layer (type)                 Output Shape              Param #   \n",
      "=================================================================\n",
      "dense_52 (Dense)             (None, 3, 3, 32)          16416     \n",
      "_________________________________________________________________\n",
      "flatten_14 (Flatten)         (None, 288)               0         \n",
      "_________________________________________________________________\n",
      "dropout_18 (Dropout)         (None, 288)               0         \n",
      "_________________________________________________________________\n",
      "dense_53 (Dense)             (None, 16)                4624      \n",
      "_________________________________________________________________\n",
      "dropout_19 (Dropout)         (None, 16)                0         \n",
      "_________________________________________________________________\n",
      "dense_54 (Dense)             (None, 16)                272       \n",
      "_________________________________________________________________\n",
      "dense_55 (Dense)             (None, 1)                 17        \n",
      "=================================================================\n",
      "Total params: 21,329\n",
      "Trainable params: 21,329\n",
      "Non-trainable params: 0\n",
      "_________________________________________________________________\n",
      "400/400 [==============================] - 0s 127us/step\n",
      "\n",
      "acc: 86.00%\n"
     ]
    }
   ],
   "source": [
    "from keras.models import Sequential\n",
    "from keras.layers.core import Dense, Activation, Flatten, Dropout\n",
    "from keras.layers import Conv2D\n",
    "\n",
    "model = Sequential()\n",
    "model.add(Dense(32, input_shape=(3, 3, 512), activation='relu'))\n",
    "model.add(Flatten())\n",
    "model.add(Dropout(0.2))\n",
    "model.add(Dense(16, activation='relu'))\n",
    "model.add(Dropout(0.2))\n",
    "model.add(Dense(16, activation='relu'))\n",
    "model.add(Dense(1, activation='sigmoid'))\n",
    "\n",
    "model.compile(loss='mean_squared_error', optimizer='rmsprop', metrics=['accuracy'])\n",
    "\n",
    "model.fit(features, Y, epochs=50, batch_size=10, validation_split=0.3)\n",
    "model.summary()\n",
    "\n",
    "scores = model.evaluate(features, Y)\n",
    "print(\"\\n%s: %.2f%%\" % (model.metrics_names[1], scores[1]*100))"
   ]
  },
  {
   "cell_type": "code",
   "execution_count": null,
   "metadata": {},
   "outputs": [],
   "source": []
  }
 ],
 "metadata": {
  "kernelspec": {
   "display_name": "Python 3",
   "language": "python",
   "name": "python3"
  },
  "language_info": {
   "codemirror_mode": {
    "name": "ipython",
    "version": 3
   },
   "file_extension": ".py",
   "mimetype": "text/x-python",
   "name": "python",
   "nbconvert_exporter": "python",
   "pygments_lexer": "ipython3",
   "version": "3.7.1"
  }
 },
 "nbformat": 4,
 "nbformat_minor": 2
}
