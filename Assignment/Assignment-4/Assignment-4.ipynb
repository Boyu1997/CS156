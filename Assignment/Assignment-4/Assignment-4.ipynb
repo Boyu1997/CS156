{
 "cells": [
  {
   "cell_type": "markdown",
   "metadata": {},
   "source": [
    "### Load MNIST data using the mnist package "
   ]
  },
  {
   "cell_type": "code",
   "execution_count": 1,
   "metadata": {},
   "outputs": [],
   "source": [
    "import mnist\n",
    "\n",
    "train_images = mnist.train_images()\n",
    "train_labels = mnist.train_labels()\n",
    "\n",
    "test_images = mnist.test_images()\n",
    "test_labels = mnist.test_labels()"
   ]
  },
  {
   "cell_type": "markdown",
   "metadata": {},
   "source": [
    "### Data processing, label images of 3 as 0, and images of 7 as 1. Flatten the 2D image into 1D array."
   ]
  },
  {
   "cell_type": "code",
   "execution_count": 2,
   "metadata": {},
   "outputs": [
    {
     "name": "stdout",
     "output_type": "stream",
     "text": [
      "Train set data shape:\n",
      "X: (12396, 784)\n",
      "Y: (12396,)\n",
      "Test set data shape:\n",
      "X: (2038, 784)\n",
      "Y: (2038,)\n"
     ]
    }
   ],
   "source": [
    "import numpy as np\n",
    "\n",
    "train_images_3 = train_images[train_labels == 3]\n",
    "train_images_3 = train_images_3.reshape(train_images_3.shape[0], 28*28)\n",
    "train_labels_3 = np.zeros(train_images_3.shape[0])\n",
    "train_images_7 = train_images[train_labels == 7]\n",
    "train_images_7 = train_images_7.reshape(train_images_7.shape[0], 28*28)\n",
    "train_labels_7 = np.ones(train_images_7.shape[0])\n",
    "X_train = np.concatenate((train_images_3, train_images_7), axis=0)\n",
    "Y_train = np.concatenate((train_labels_3, train_labels_7), axis=0)\n",
    "\n",
    "test_images_3 = test_images[test_labels == 3]\n",
    "test_images_3 = test_images_3.reshape(test_images_3.shape[0], 28*28)\n",
    "test_labels_3 = np.zeros(test_images_3.shape[0])\n",
    "test_images_7 = test_images[test_labels == 7]\n",
    "test_images_7 = test_images_7.reshape(test_images_7.shape[0], 28*28)\n",
    "test_labels_7 = np.ones(test_images_7.shape[0])\n",
    "X_test = np.concatenate((test_images_3, test_images_7), axis=0)\n",
    "Y_test = np.concatenate((test_labels_3, test_labels_7), axis=0)\n",
    "\n",
    "\n",
    "print (\"Train set data shape:\")\n",
    "print (\"X:\", X_train.shape)\n",
    "print (\"Y:\", Y_train.shape)\n",
    "print (\"Test set data shape:\")\n",
    "print (\"X:\", X_test.shape)\n",
    "print (\"Y:\", Y_test.shape)"
   ]
  },
  {
   "cell_type": "markdown",
   "metadata": {},
   "source": [
    "### Plot some sample data"
   ]
  },
  {
   "cell_type": "code",
   "execution_count": 7,
   "metadata": {},
   "outputs": [
    {
     "name": "stderr",
     "output_type": "stream",
     "text": [
      "/usr/local/lib/python3.7/site-packages/ipykernel_launcher.py:4: DeprecationWarning: This function is deprecated. Please call randint(0, 12395 + 1) instead\n",
      "  after removing the cwd from sys.path.\n"
     ]
    },
    {
     "data": {
      "image/png": "[encoded data removed]",
      "text/plain": [
       "<Figure size 432x288 with 16 Axes>"
      ]
     },
     "metadata": {
      "needs_background": "light"
     },
     "output_type": "display_data"
    }
   ],
   "source": [
    "import matplotlib.pyplot as plt\n",
    "import matplotlib.image as mpimg\n",
    "\n",
    "samples = np.random.random_integers(0, X_train.shape[0]-1, size=16)\n",
    "count = 1\n",
    "for sample in samples:\n",
    "    plt.subplot(4,4, count)\n",
    "    plt.axis('off')\n",
    "    plt.imshow(X_train[sample].reshape(28,28))\n",
    "    count += 1"
   ]
  },
  {
   "cell_type": "markdown",
   "metadata": {},
   "source": [
    "### Linear kernel implementation"
   ]
  },
  {
   "cell_type": "code",
   "execution_count": 4,
   "metadata": {},
   "outputs": [
    {
     "name": "stdout",
     "output_type": "stream",
     "text": [
      "Training time is: 12.602896928787231\n",
      "Accuracy score is: 0.9764474975466143\n"
     ]
    }
   ],
   "source": [
    "from sklearn import svm\n",
    "import time\n",
    "\n",
    "linear_svc = svm.SVC(kernel='linear')\n",
    "start_time = time.time()\n",
    "linear_svc.fit(X_train, Y_train)\n",
    "end_time = time.time()\n",
    "\n",
    "print (\"Training time is:\", end_time-start_time)\n",
    "print (\"Accuracy score is:\", linear_svc.score(X_test, Y_test))"
   ]
  },
  {
   "cell_type": "markdown",
   "metadata": {},
   "source": [
    "### Poly kernel implementation"
   ]
  },
  {
   "cell_type": "code",
   "execution_count": 5,
   "metadata": {},
   "outputs": [
    {
     "name": "stderr",
     "output_type": "stream",
     "text": [
      "/usr/local/lib/python3.7/site-packages/sklearn/svm/base.py:196: FutureWarning: The default value of gamma will change from 'auto' to 'scale' in version 0.22 to account better for unscaled features. Set gamma explicitly to 'auto' or 'scale' to avoid this warning.\n",
      "  \"avoid this warning.\", FutureWarning)\n"
     ]
    },
    {
     "name": "stdout",
     "output_type": "stream",
     "text": [
      "Training time is: 7.354567050933838\n",
      "Accuracy score is: 0.9955839057899902\n"
     ]
    }
   ],
   "source": [
    "from sklearn import svm\n",
    "\n",
    "poly_svc = svm.SVC(kernel='poly')\n",
    "start_time = time.time()\n",
    "poly_svc.fit(X_train, Y_train)\n",
    "end_time = time.time()\n",
    "\n",
    "print (\"Training time is:\", end_time-start_time)\n",
    "print (\"Accuracy score is:\", poly_svc.score(X_test, Y_test))"
   ]
  },
  {
   "cell_type": "markdown",
   "metadata": {},
   "source": [
    "### RBF kernel implementation"
   ]
  },
  {
   "cell_type": "code",
   "execution_count": 6,
   "metadata": {},
   "outputs": [
    {
     "name": "stderr",
     "output_type": "stream",
     "text": [
      "/usr/local/lib/python3.7/site-packages/sklearn/svm/base.py:196: FutureWarning: The default value of gamma will change from 'auto' to 'scale' in version 0.22 to account better for unscaled features. Set gamma explicitly to 'auto' or 'scale' to avoid this warning.\n",
      "  \"avoid this warning.\", FutureWarning)\n"
     ]
    },
    {
     "name": "stdout",
     "output_type": "stream",
     "text": [
      "Training time is: 452.00220489501953\n",
      "Accuracy score is: 0.5044160942100098\n"
     ]
    }
   ],
   "source": [
    "from sklearn import svm\n",
    "\n",
    "rbf_svc = svm.SVC(kernel='rbf')\n",
    "start_time = time.time()\n",
    "rbf_svc.fit(X_train, Y_train)\n",
    "end_time = time.time()\n",
    "\n",
    "print (\"Training time is:\", end_time-start_time)\n",
    "print (\"Accuracy score is:\", rbf_svc.score(X_test, Y_test))"
   ]
  }
 ],
 "metadata": {
  "kernelspec": {
   "display_name": "Python 3",
   "language": "python",
   "name": "python3"
  },
  "language_info": {
   "codemirror_mode": {
    "name": "ipython",
    "version": 3
   },
   "file_extension": ".py",
   "mimetype": "text/x-python",
   "name": "python",
   "nbconvert_exporter": "python",
   "pygments_lexer": "ipython3",
   "version": "3.7.0"
  }
 },
 "nbformat": 4,
 "nbformat_minor": 2
}
