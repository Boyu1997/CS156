{
 "cells": [
  {
   "cell_type": "code",
   "execution_count": 5,
   "metadata": {
    "scrolled": false
   },
   "outputs": [
    {
     "name": "stderr",
     "output_type": "stream",
     "text": [
      "/Library/Frameworks/Python.framework/Versions/3.6/lib/python3.6/site-packages/IPython/core/interactiveshell.py:2785: DtypeWarning: Columns (0,47) have mixed types. Specify dtype option on import or set low_memory=False.\n",
      "  interactivity=interactivity, compiler=compiler, result=result)\n"
     ]
    },
    {
     "name": "stdout",
     "output_type": "stream",
     "text": [
      "   loan_amnt   issue_d         purpose    dti zip_code addr_state  \\\n",
      "0     5000.0  Dec-2011     credit_card  27.65    860xx         AZ   \n",
      "1     2500.0  Dec-2011             car   1.00    309xx         GA   \n",
      "2     2400.0  Dec-2011  small_business   8.72    606xx         IL   \n",
      "3    10000.0  Dec-2011           other  20.00    917xx         CA   \n",
      "4     3000.0  Dec-2011           other  17.94    972xx         OR   \n",
      "\n",
      "   policy_code emp_length  \n",
      "0          1.0  10+ years  \n",
      "1          1.0   < 1 year  \n",
      "2          1.0  10+ years  \n",
      "3          1.0  10+ years  \n",
      "4          1.0     1 year  \n",
      "             loan_amnt  issue_d  purpose    dti  zip_code  addr_state  \\\n",
      "policy_code                                                             \n",
      "1.0              42535    42535    42535  42535     42535       42535   \n",
      "\n",
      "             emp_length  \n",
      "policy_code              \n",
      "1.0               41423  \n",
      "   loan_amnt     issue_d                           purpose     dti zip_code  \\\n",
      "0     1000.0  2007-05-26  Wedding Covered but No Honeymoon     10%    481xx   \n",
      "1     1000.0  2007-05-26                Consolidating Debt     10%    010xx   \n",
      "2    11000.0  2007-05-27       Want to consolidate my debt     10%    212xx   \n",
      "3     6000.0  2007-05-27                           waksman  38.64%    017xx   \n",
      "4     1500.0  2007-05-27                            mdrigo   9.43%    209xx   \n",
      "\n",
      "  addr_state  policy_code emp_length  \n",
      "0         NM            0    4 years  \n",
      "1         MA            0   < 1 year  \n",
      "2         MD            0     1 year  \n",
      "3         MA            0   < 1 year  \n",
      "4         MD            0   < 1 year  \n"
     ]
    }
   ],
   "source": [
    "import pandas as pd\n",
    "\n",
    "approved_raw_data = pd.read_csv(\"LoanStats3a.csv\", skiprows=1)\n",
    "rejected_raw_data = pd.read_csv(\"RejectStatsA.csv\", skiprows=1)\n",
    "\n",
    "### Matching ###\n",
    "# 'loan_amnt' - 'Amount Requested'\n",
    "# 'issue_d' - 'Application Date'\n",
    "# 'purpose', 'title' - 'Loan Title'\n",
    "# '' - 'Risk_Score' (no match)\n",
    "# 'dti' - 'Debt-To-Income Ratio'\n",
    "# 'zip_code' - 'Zip Code'\n",
    "# 'addr_state' - 'State'\n",
    "# 'policy_code' - 'Policy Code'\n",
    "# 'emp_length' - 'Employment Length'\n",
    "approved_select_data = approved_raw_data[['loan_amnt','issue_d', 'purpose', 'dti', 'zip_code', 'addr_state', 'policy_code', 'emp_length']]\n",
    "rejected_select_data = rejected_raw_data[['Amount Requested','Application Date', 'Loan Title', 'Debt-To-Income Ratio', 'Zip Code', 'State', 'Policy Code', 'Employment Length']]\n",
    "rejected_select_data.columns = ['loan_amnt','issue_d', 'purpose', 'dti', 'zip_code', 'addr_state', 'policy_code', 'emp_length']\n",
    "\n",
    "# combine the datasets, where policy_code=1 means approved and policy_code=0 means rejected\n",
    "raw\n",
    "\n",
    "print (approved_data.head())\n",
    "print (rejected_data.head())"
   ]
  },
  {
   "cell_type": "code",
   "execution_count": 7,
   "metadata": {},
   "outputs": [
    {
     "name": "stdout",
     "output_type": "stream",
     "text": [
      "             loan_amnt  issue_d  purpose    dti  zip_code  addr_state  \\\n",
      "policy_code                                                             \n",
      "1.0              42535    42535    42535  42535     42535       42535   \n",
      "\n",
      "             emp_length  \n",
      "policy_code              \n",
      "1.0               41423  \n",
      "             loan_amnt  issue_d  purpose     dti  zip_code  addr_state  \\\n",
      "policy_code                                                              \n",
      "0               755491   755491   755477  755491    755469      755470   \n",
      "\n",
      "             emp_length  \n",
      "policy_code              \n",
      "0                747361  \n"
     ]
    }
   ],
   "source": [
    "print (approved_data.groupby('policy_code').count())\n",
    "print (rejected_data.groupby('policy_code').count())"
   ]
  },
  {
   "cell_type": "code",
   "execution_count": 9,
   "metadata": {},
   "outputs": [
    {
     "data": {
      "text/plain": [
       "['',\n",
       " '/Library/Frameworks/Python.framework/Versions/3.6/lib/python36.zip',\n",
       " '/Library/Frameworks/Python.framework/Versions/3.6/lib/python3.6',\n",
       " '/Library/Frameworks/Python.framework/Versions/3.6/lib/python3.6/lib-dynload',\n",
       " '/Library/Frameworks/Python.framework/Versions/3.6/lib/python3.6/site-packages',\n",
       " '/Library/Frameworks/Python.framework/Versions/3.6/lib/python3.6/site-packages/IPython/extensions',\n",
       " '/Users/boyu/.ipython']"
      ]
     },
     "execution_count": 9,
     "metadata": {},
     "output_type": "execute_result"
    }
   ],
   "source": [
    "import sys\n",
    "sys.executable"
   ]
  },
  {
   "cell_type": "code",
   "execution_count": null,
   "metadata": {},
   "outputs": [],
   "source": []
  }
 ],
 "metadata": {
  "kernelspec": {
   "display_name": "Python 3",
   "language": "python",
   "name": "python3"
  },
  "language_info": {
   "codemirror_mode": {
    "name": "ipython",
    "version": 3
   },
   "file_extension": ".py",
   "mimetype": "text/x-python",
   "name": "python",
   "nbconvert_exporter": "python",
   "pygments_lexer": "ipython3",
   "version": "3.6.4"
  }
 },
 "nbformat": 4,
 "nbformat_minor": 2
}
