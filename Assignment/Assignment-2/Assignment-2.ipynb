{
 "cells": [
  {
   "cell_type": "markdown",
   "metadata": {},
   "source": [
    "# Assignment 2"
   ]
  },
  {
   "cell_type": "markdown",
   "metadata": {},
   "source": [
    "## Data cleaning"
   ]
  },
  {
   "cell_type": "markdown",
   "metadata": {},
   "source": [
    "#### Load data and find freature present in both approved and rejected data. "
   ]
  },
  {
   "cell_type": "code",
   "execution_count": 1,
   "metadata": {
    "scrolled": false
   },
   "outputs": [
    {
     "name": "stderr",
     "output_type": "stream",
     "text": [
      "/Library/Frameworks/Python.framework/Versions/3.6/lib/python3.6/site-packages/IPython/core/interactiveshell.py:2785: DtypeWarning: Columns (0,47) have mixed types. Specify dtype option on import or set low_memory=False.\n",
      "  interactivity=interactivity, compiler=compiler, result=result)\n"
     ]
    }
   ],
   "source": [
    "import pandas as pd\n",
    "\n",
    "approved_csv = pd.read_csv(\"LoanStats3a.csv\", skiprows=1)\n",
    "rejected_csv = pd.read_csv(\"RejectStatsA.csv\", skiprows=1)\n",
    "\n",
    "### Mapping ###\n",
    "# 'loan_amnt' - 'Amount Requested'\n",
    "# 'issue_d' - 'Application Date'\n",
    "# 'purpose', 'title' - 'Loan Title'\n",
    "# '' - 'Risk_Score' (no match)\n",
    "# 'dti' - 'Debt-To-Income Ratio'\n",
    "# 'zip_code' - 'Zip Code'\n",
    "# 'addr_state' - 'State'\n",
    "# 'policy_code' - 'Policy Code'\n",
    "# 'emp_length' - 'Employment Length'\n",
    "approved_raw_data = approved_csv[['loan_amnt','issue_d', 'purpose', 'dti', 'zip_code',\n",
    "                                  'addr_state', 'policy_code','emp_length']]\n",
    "rejected_raw_data = rejected_csv[['Amount Requested','Application Date', 'Loan Title',\n",
    "                                  'Debt-To-Income Ratio', 'Zip Code', 'State',\n",
    "                                  'Policy Code', 'Employment Length']]\n",
    "rejected_raw_data.columns = ['loan_amnt','issue_d', 'purpose', 'dti', 'zip_code',\n",
    "                             'addr_state', 'policy_code', 'emp_length']"
   ]
  },
  {
   "cell_type": "markdown",
   "metadata": {},
   "source": [
    "#### Count the number of entries avaliable in each set, and display a small sample."
   ]
  },
  {
   "cell_type": "code",
   "execution_count": 2,
   "metadata": {},
   "outputs": [
    {
     "name": "stdout",
     "output_type": "stream",
     "text": [
      "The dataset contain 42538 approved data.\n",
      "The dataset contain 755491 rejected data.\n",
      "\n",
      "\n",
      "Sample from approved data:\n",
      "       loan_amnt   issue_d             purpose    dti zip_code addr_state  \\\n",
      "6017      2500.0  Oct-2011               house  15.56    019xx         MA   \n",
      "1241      8875.0  Dec-2011  debt_consolidation  28.84    770xx         TX   \n",
      "34345     6500.0  Nov-2009               house   8.64    926xx         CA   \n",
      "28751    25000.0  Jun-2010  debt_consolidation  22.63    923xx         CA   \n",
      "21116     6000.0  Jan-2011             medical  22.28    926xx         CA   \n",
      "\n",
      "       policy_code emp_length  \n",
      "6017           1.0        NaN  \n",
      "1241           1.0  10+ years  \n",
      "34345          1.0     1 year  \n",
      "28751          1.0    4 years  \n",
      "21116          1.0    4 years  \n",
      "\n",
      "\n",
      "Sample from rejected data:\n",
      "        loan_amnt     issue_d                   purpose     dti zip_code  \\\n",
      "645090    11500.0  2012-10-02               credit_card  35.81%    799xx   \n",
      "17860      7500.0  2008-06-17  Need to Consolidate Debt     -1%    254xx   \n",
      "572209     3000.0  2012-07-21                    moving  15.88%    608xx   \n",
      "304113     5000.0  2011-07-19        debt_consolidation  12.35%    330xx   \n",
      "465492    23000.0  2012-03-19        debt_consolidation  17.41%    773xx   \n",
      "\n",
      "       addr_state  policy_code emp_length  \n",
      "645090         TX            0   < 1 year  \n",
      "17860          WV            0    8 years  \n",
      "572209         IL            0   < 1 year  \n",
      "304113         FL            0   < 1 year  \n",
      "465492         TX            0    3 years  \n"
     ]
    }
   ],
   "source": [
    "print (\"The dataset contain {:d} approved data.\".format(approved_raw_data.shape[0]))\n",
    "print (\"The dataset contain {:d} rejected data.\".format(rejected_raw_data.shape[0]))\n",
    "\n",
    "print (\"\\n\")\n",
    "print (\"Sample from approved data:\")\n",
    "print (approved_raw_data.sample(5))\n",
    "print (\"\\n\")\n",
    "print (\"Sample from rejected data:\")\n",
    "print (rejected_raw_data.sample(5))"
   ]
  },
  {
   "cell_type": "markdown",
   "metadata": {},
   "source": [
    "#### Count how may entries have missing value for both set."
   ]
  },
  {
   "cell_type": "code",
   "execution_count": 3,
   "metadata": {},
   "outputs": [
    {
     "name": "stdout",
     "output_type": "stream",
     "text": [
      "             approved  approved %  rejected  rejected %\n",
      "loan_amnt           3    0.000071         0    0.000000\n",
      "issue_d             3    0.000071         0    0.000000\n",
      "purpose             3    0.000071        14    0.000019\n",
      "dti                 3    0.000071         0    0.000000\n",
      "zip_code            3    0.000071        22    0.000029\n",
      "addr_state          3    0.000071        21    0.000028\n",
      "policy_code         3    0.000071         0    0.000000\n",
      "emp_length       1115    0.026212      8130    0.010761\n"
     ]
    }
   ],
   "source": [
    "nan_count = pd.DataFrame({\"approved\": approved_raw_data.isnull().sum(),\n",
    "                          \"approved %\": approved_raw_data.isnull().sum() / len(approved_raw_data), \n",
    "                          \"rejected\": rejected_raw_data.isnull().sum(),\n",
    "                          \"rejected %\": rejected_raw_data.isnull().sum() / len(rejected_raw_data)})\n",
    "print (nan_count)"
   ]
  },
  {
   "cell_type": "markdown",
   "metadata": {},
   "source": [
    "#### In general, the dataset is relatively complet, with most of the missing value occur in the 'emp_length' feature. However, it is still less than 3% of missing value for the approved set and about 1% for the rejected set. This means it is relatively safe to simply drop the entries with NaN value with low possibility of introducing a significant bias."
   ]
  },
  {
   "cell_type": "code",
   "execution_count": 4,
   "metadata": {},
   "outputs": [],
   "source": [
    "approved_raw_data = approved_raw_data.dropna()\n",
    "rejected_raw_data = rejected_raw_data.dropna()"
   ]
  },
  {
   "cell_type": "markdown",
   "metadata": {},
   "source": [
    "## Data processing"
   ]
  },
  {
   "cell_type": "markdown",
   "metadata": {},
   "source": [
    "#### Feature 'issue_d' and 'dti' are coded in different format in the approved and rejected set. We will need to standardize the format."
   ]
  },
  {
   "cell_type": "code",
   "execution_count": 5,
   "metadata": {},
   "outputs": [],
   "source": [
    "import copy\n",
    "\n",
    "# copy raw data into intermediate processing set\n",
    "approved_data_0 = copy.deepcopy(approved_raw_data)\n",
    "rejected_data_0 = copy.deepcopy(rejected_raw_data)"
   ]
  },
  {
   "cell_type": "code",
   "execution_count": 6,
   "metadata": {},
   "outputs": [],
   "source": [
    "from datetime import datetime\n",
    "import numpy as np\n",
    "\n",
    "def date_string_to_datetime(row):\n",
    "    try:   # for approved dataset\n",
    "        return datetime.strptime(row['issue_d'], \"%b-%Y\")\n",
    "    except:   # for rejected dataset\n",
    "        return datetime.strptime(row['issue_d'], \"%Y-%m-%d\")\n",
    "\n",
    "def extract_year_lambda(row):\n",
    "    return date_string_to_datetime(row).year\n",
    "\n",
    "def extract_month_lambda(row):\n",
    "    return date_string_to_datetime(row).month\n",
    "\n",
    "def dti_percent_to_decimal(row):\n",
    "    return np.float64(row['dti'].strip(\"%\"))\n",
    "    \n",
    "\n",
    "approved_data_0['issue_y'] = approved_data_0.apply(extract_year_lambda, axis=1)\n",
    "approved_data_0['issue_m'] = approved_data_0.apply(extract_month_lambda, axis=1)\n",
    "approved_data_0 = approved_data_0.drop(columns=['issue_d'])\n",
    "\n",
    "rejected_data_0['issue_y'] = rejected_data_0.apply(extract_year_lambda, axis=1)\n",
    "rejected_data_0['issue_m'] = rejected_data_0.apply(extract_month_lambda, axis=1)\n",
    "rejected_data_0['dti'] = rejected_data_0.apply(dti_percent_to_decimal, axis=1)\n",
    "rejected_data_0 = rejected_data_0.drop(columns=['issue_d'])"
   ]
  },
  {
   "cell_type": "code",
   "execution_count": 10,
   "metadata": {},
   "outputs": [
    {
     "name": "stdout",
     "output_type": "stream",
     "text": [
      "Sample from approved data:\n",
      "       loan_amnt             purpose    dti zip_code addr_state  policy_code  \\\n",
      "24026    10000.0         credit_card  15.58    115xx         NY          1.0   \n",
      "30114     2500.0               other   9.75    756xx         TX          1.0   \n",
      "4891      6250.0  debt_consolidation  16.72    708xx         LA          1.0   \n",
      "41971    24000.0      small_business  18.38    921xx         CA          1.0   \n",
      "39027    22000.0  debt_consolidation   9.81    100xx         NY          1.0   \n",
      "\n",
      "      emp_length  issue_y  issue_m  \n",
      "24026    4 years     2010       11  \n",
      "30114   < 1 year     2010        5  \n",
      "4891     2 years     2011       11  \n",
      "41971    4 years     2008        2  \n",
      "39027   < 1 year     2008        3  \n",
      "\n",
      "\n",
      "Sample from rejected data:\n",
      "        loan_amnt             purpose     dti zip_code addr_state  \\\n",
      "573083     2000.0  debt_consolidation    2.86    936xx         CA   \n",
      "116524     1000.0             wedding    3.18    902xx         CA   \n",
      "491444    15000.0          GREAT LOAN    3.71    914xx         CA   \n",
      "66339      8000.0       personal loan   -1.00    114xx         NY   \n",
      "587459     6000.0              moving  207.20    293xx         SC   \n",
      "\n",
      "        policy_code emp_length  issue_y  issue_m  \n",
      "573083            0   < 1 year     2012        7  \n",
      "116524            0   < 1 year     2010        5  \n",
      "491444            0    6 years     2012        4  \n",
      "66339             0    6 years     2009        8  \n",
      "587459            0   < 1 year     2012        8  \n"
     ]
    }
   ],
   "source": [
    "print (\"Sample from approved data:\")\n",
    "print (approved_data_0.sample(5))\n",
    "print (\"\\n\")\n",
    "print (\"Sample from rejected data:\")\n",
    "print (rejected_data_0.sample(5))"
   ]
  },
  {
   "cell_type": "markdown",
   "metadata": {},
   "source": [
    "#### Feature 'purpose' is a string, containing discription of the intened use of the loan. We need to find a way to represent that data in a machine-friendly way."
   ]
  },
  {
   "cell_type": "code",
   "execution_count": 13,
   "metadata": {},
   "outputs": [
    {
     "name": "stdout",
     "output_type": "stream",
     "text": [
      "                    loan_amnt    dti  zip_code  addr_state  policy_code  \\\n",
      "purpose                                                                   \n",
      "car                      1563   1563      1563        1563         1563   \n",
      "credit_card              5344   5344      5344        5344         5344   \n",
      "debt_consolidation      19363  19363     19363       19363        19363   \n",
      "educational               413    413       413         413          413   \n",
      "home_improvement         3099   3099      3099        3099         3099   \n",
      "house                     412    412       412         412          412   \n",
      "major_purchase           2238   2238      2238        2238         2238   \n",
      "medical                   726    726       726         726          726   \n",
      "moving                    603    603       603         603          603   \n",
      "other                    4259   4259      4259        4259         4259   \n",
      "renewable_energy           98     98        98          98           98   \n",
      "small_business           1946   1946      1946        1946         1946   \n",
      "vacation                  368    368       368         368          368   \n",
      "wedding                   991    991       991         991          991   \n",
      "\n",
      "                    emp_length  issue_y  issue_m  \n",
      "purpose                                           \n",
      "car                       1563     1563     1563  \n",
      "credit_card               5344     5344     5344  \n",
      "debt_consolidation       19363    19363    19363  \n",
      "educational                413      413      413  \n",
      "home_improvement          3099     3099     3099  \n",
      "house                      412      412      412  \n",
      "major_purchase            2238     2238     2238  \n",
      "medical                    726      726      726  \n",
      "moving                     603      603      603  \n",
      "other                     4259     4259     4259  \n",
      "renewable_energy            98       98       98  \n",
      "small_business            1946     1946     1946  \n",
      "vacation                   368      368      368  \n",
      "wedding                    991      991      991  \n"
     ]
    }
   ],
   "source": [
    "print (approved_data_0.groupby('purpose').count())"
   ]
  },
  {
   "cell_type": "code",
   "execution_count": null,
   "metadata": {},
   "outputs": [],
   "source": []
  }
 ],
 "metadata": {
  "kernelspec": {
   "display_name": "Python 3",
   "language": "python",
   "name": "python3"
  },
  "language_info": {
   "codemirror_mode": {
    "name": "ipython",
    "version": 3
   },
   "file_extension": ".py",
   "mimetype": "text/x-python",
   "name": "python",
   "nbconvert_exporter": "python",
   "pygments_lexer": "ipython3",
   "version": "3.6.4"
  }
 },
 "nbformat": 4,
 "nbformat_minor": 2
}
