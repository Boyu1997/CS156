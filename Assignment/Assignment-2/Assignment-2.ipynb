{
 "cells": [
  {
   "cell_type": "code",
   "execution_count": 2,
   "metadata": {
    "scrolled": false
   },
   "outputs": [
    {
     "name": "stderr",
     "output_type": "stream",
     "text": [
      "/Library/Frameworks/Python.framework/Versions/3.6/lib/python3.6/site-packages/IPython/core/interactiveshell.py:2785: DtypeWarning: Columns (0,47) have mixed types. Specify dtype option on import or set low_memory=False.\n",
      "  interactivity=interactivity, compiler=compiler, result=result)\n"
     ]
    },
    {
     "name": "stdout",
     "output_type": "stream",
     "text": [
      "2000\n"
     ]
    }
   ],
   "source": [
    "import pandas as pd\n",
    "\n",
    "approved_data = pd.read_csv(\"LoanStats3a.csv\", skiprows=1)\n",
    "rejected_data = pd.read_csv(\"RejectStatsA.csv\", skiprows=1)\n",
    "\n",
    "# print (approved_data.head())\n",
    "count = 0\n",
    "for index, data in approved_data.iterrows():\n",
    "    if data['loan_amnt'] == data['funded_amnt'] and data['funded_amnt'] == data['funded_amnt']:\n",
    "        pass\n",
    "    else:\n",
    "        count += 1\n",
    "        \n",
    "print (count)\n",
    "# print (approved_data[['loan_amnt', 'funded_amnt', 'funded_amnt']])\n",
    "# print (rejected_data.head())"
   ]
  },
  {
   "cell_type": "code",
   "execution_count": null,
   "metadata": {},
   "outputs": [],
   "source": []
  }
 ],
 "metadata": {
  "kernelspec": {
   "display_name": "Python 3",
   "language": "python",
   "name": "python3"
  },
  "language_info": {
   "codemirror_mode": {
    "name": "ipython",
    "version": 3
   },
   "file_extension": ".py",
   "mimetype": "text/x-python",
   "name": "python",
   "nbconvert_exporter": "python",
   "pygments_lexer": "ipython3",
   "version": "3.6.4"
  }
 },
 "nbformat": 4,
 "nbformat_minor": 2
}
