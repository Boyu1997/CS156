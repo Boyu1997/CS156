{
 "cells": [
  {
   "cell_type": "markdown",
   "metadata": {},
   "source": [
    "## Fraud: A how-to guide"
   ]
  },
  {
   "cell_type": "code",
   "execution_count": 29,
   "metadata": {},
   "outputs": [
    {
     "data": {
      "image/png": "[encoded data removed]",
      "text/plain": [
       "<Figure size 432x288 with 1 Axes>"
      ]
     },
     "metadata": {
      "needs_background": "light"
     },
     "output_type": "display_data"
    },
    {
     "data": {
      "text/plain": [
       "array([-11608.2615874, -12320.7615874, -13371.2615874,  -9707.2615874,\n",
       "        -9069.7615874,  -8219.2615874])"
      ]
     },
     "execution_count": 29,
     "metadata": {},
     "output_type": "execute_result"
    }
   ],
   "source": [
    "from sklearn.neighbors.kde import KernelDensity\n",
    "import numpy as np\n",
    "import pandas as pd\n",
    "import re\n",
    "import matplotlib.pyplot as plt\n",
    "\n",
    "df = pd.read_csv('anonymized.csv')\n",
    "\n",
    "data = []\n",
    "for _, row in df.iterrows():\n",
    "    if re.match(r\".*May.*\", row['Date']):\n",
    "        data.append([int(row['Date'][:2]), row['Amount']])\n",
    "\n",
    "data = np.array(data)\n",
    "plt.scatter(data[:,0], data[:,1])\n",
    "plt.show()\n",
    "\n",
    "kde = KernelDensity(kernel='gaussian', bandwidth=0.2).fit(data)\n",
    "kde.score_samples(X)"
   ]
  },
  {
   "cell_type": "markdown",
   "metadata": {},
   "source": [
    "## Clustering survey data"
   ]
  },
  {
   "cell_type": "code",
   "execution_count": 9,
   "metadata": {},
   "outputs": [
    {
     "name": "stdout",
     "output_type": "stream",
     "text": [
      "[3 1 3 0 2 0 1 0 0 0 1 1 0 0 0 2 0 1 0 1 0 2 0 2 0 0 0 2 1 1 0 0 2 0 2 2 0\n",
      " 2 2 1 0 0 0 0 3 1 0 1 0 1 1 2 1 0 0 3 2 1 3 1 1 1 0 1 1 1 0 3 1 2 3 0 1 1\n",
      " 1 0 0 0 1 0 1 3 1 0 2 2 0 3 3 1 2 2 3 0 1 0 0 2 0 2 0 0 2 0 0 2 3 0 3 0 2\n",
      " 1 0 0 1 0 0 1 2 1 0 0 1 1 1 0 1 2 1 1 0 0 1 1 2 0 2 3 1 1 1 1 1 1 2 1 3 1\n",
      " 0 0 0 3 0 1 3 3 0 0 1 1 2 3 0 0 1 2 0 1 3 0 0 0 0 0 1 2 1 0 3 0 1 0 0 0 1\n",
      " 1 0 0 1 1 0 3 1 2 2 3 3 2 0 0 0 0 3 0 0 2 0 0 3 1 2 1 0 0 2 2 2 2 1 1 0 1\n",
      " 2 2 0 1 1 0 3 3 3 1 2 3 0 0 0 2 3 2 2 1 3 0 2 1 1 1 0 0 1 3 0 1 0 1 3 1 1\n",
      " 1 2 2 0 1 1 0 1 3 2 0 0 0 2 1 0 0 1 0 0 3 1 1 0 0 1 1 1 0 2 1 0 3 0 0 1 3\n",
      " 0 1 1 0 3 0 3 0 0 0 0 1 0 0 1 0 1 0 2 2 2 1 0 0 1 0 0 3 3 2 1 0 1 3 0 0 0\n",
      " 0 1 2 0 2 0 0 0 1 0 2 1 0 2 3 1 3 0 0 1 2 2 1 0 2 0 0 1 1 0 0 3 1 3 2 0 2\n",
      " 1 1 2 0 0 2 1 1 1 2 2 1 1 1 0 0 0 0 1 1 0 0 0 2 0 2 1 0 1 0 0 0 1 0 1 0 0\n",
      " 2 1 1 0 0 0 1 3 0 0 0 3 1 0 3 0 3 0 2 0 0 1 0 2 3 1 3 3 0 3 3 2 0 3 0 1 0\n",
      " 3 0 0 0 3 3 0 3 3 0 3 0 3 0 2 2 3 0 2 2 1 1 3 0 1 0 0 2 0 1 2 2 2 0 1 2 1\n",
      " 0 3 2 0 3 0 0 1 3 0 1 3 1 2 0 0 3 3 3 2 1 0 3 0 0 1 0 0 0 1 0 0 0 2 3 0 2\n",
      " 1 2 3 0 1 0 1 2 3 1 1 0 2 3 1 3 1 1 0 1 0 0 0 1 1 1 1 1 1 1 0 1 2 0 0 1 1\n",
      " 1 3 0 3 2 0 1 0 0 1 1 0 2 0 1 2 0 3 0 0 1 0 0 0 1 0 3 1 3 1 0 3 2 0 3 0 0\n",
      " 1 2 0 3 0 0 2 0 0 0 3 0 3 0 0 3 2 1 1 0 1 0 0 1 1 3 0 0 1 0 2 3 1 0 0 1 0\n",
      " 1 0 0 0 3 2 1 2 2 0 3 0 0 1 1 0 0 0 0 0 0 3 0 0 0 0 2 0 2 3 0 3 1 3 0 2 3\n",
      " 0 0 3 3 0 0 0 3 1 1 3 1 0 1 0 2 2 3 0 1 2 0 0 0 0 3 2 1 3 1 3 1 0 1 1 2 0\n",
      " 0 0 0 3 2 0 0 0 3 2 1 0 1 0 0 3 1 1 2 0 0 1 0 0 1 1 0 1 0 2 1 0 1 2 1 0 0\n",
      " 2 1 3 1 2 0 1 0 0 2 2 1 1 0 0 2 1 2 2 0 0 1 2 3 1 0 1 1 0 1 0 1 0 3 3 0 1\n",
      " 1 0 1 3 1 0 1 3 0 0 1 1 2 3 0 2 0 0 1 2 1 3 3 0 0 1 3 0 3 1 1 0 0 0 1 0 0\n",
      " 0 1 0 0 2 0 0 1 2 0 1 0 2 0 0 0 1 2 1 1 0 1 1 2 0 3 0 0 2 0 0 0 0 0 0 0 0\n",
      " 0 3 0 0 1 2 0 1 1 0 3 2 1 1 1 2 0 0 3 0 3 0 1 1 0 3 1 0 0 1 3 1 2 1 0 1 3\n",
      " 1 1 1 3 1 1 0 0 2 1 2 2 1 3 1 0 0 1 1 0 0 0 3 0 1 0 3 0 2 1 1 1 1 3 0 0 1\n",
      " 0 1 3 1 2 0 0 1 2 3 0 0 2 0 1 3 1 0 1 1 2 1 2 0 0 1 1 0 0 0 2 1 2 3 0 1 2\n",
      " 0 0 1 0 1 2 1 0 0 0 2 0 2 1 0 1 0 1 0 1 0 0 0 0 2 3 0 0 3 0 0 0 2 2 1 3 3\n",
      " 1]\n"
     ]
    }
   ],
   "source": [
    "import numpy as np\n",
    "\n",
    "p_cluster = [0.4, 0.3, 0.15, 0.15]\n",
    "\n",
    "n_questions = 20\n",
    "n_people = 1000\n",
    "n_clusters = len(p_cluster)\n",
    "\n",
    "biases = np.random.beta(0.75, 0.75, size=(n_questions, n_clusters))\n",
    "people = np.random.choice(range(n_clusters), size=n_people, p=p_cluster)\n",
    "\n",
    "answers = np.zeros((n_people, n_questions), dtype=bool)\n",
    "\n",
    "for a in range(n_people):\n",
    "    cluster = people[a]\n",
    "    answers[a, :] = np.random.rand(n_questions) < biases[:, cluster]\n",
    "\n",
    "print(people)\n",
    "\n",
    "np.savetxt(\"questionnaire.csv\", answers, delimiter=\",\", fmt=\"%d\")\n",
    "np.savetxt(\"questionnaire_answers.csv\", people, delimiter=\",\", fmt=\"%d\")\n",
    "np.savetxt(\"questionnaire_biases.csv\", biases, delimiter=\",\", fmt=\"%.3f\")"
   ]
  },
  {
   "cell_type": "code",
   "execution_count": 18,
   "metadata": {},
   "outputs": [
    {
     "name": "stdout",
     "output_type": "stream",
     "text": [
      "20 4\n",
      "20 4\n",
      "20 4\n",
      "20 4\n",
      "20 4\n",
      "20 4\n",
      "20 4\n",
      "20 4\n",
      "20 4\n",
      "20 4\n",
      "0.45\n",
      "[[0.37988021 0.16205819 0.40254536 0.05551623]\n",
      " [0.37791039 0.02163472 0.48098495 0.11946995]\n",
      " [0.23538648 0.14609078 0.4344281  0.18409465]\n",
      " ...\n",
      " [0.08211854 0.4692217  0.3798401  0.06881967]\n",
      " [0.24838622 0.26316713 0.27407766 0.21436898]\n",
      " [0.11630244 0.31685472 0.55618597 0.01065686]]\n"
     ]
    }
   ],
   "source": [
    "import numpy as np\n",
    "\n",
    "answers = np.loadtxt(\"questionnaire.csv\", delimiter=\",\")\n",
    "n_people, n_questions = answers.shape\n",
    "n_clusters = 4\n",
    "\n",
    "p_clusters = np.asarray([0.25, 0.25, 0.25, 0.25])\n",
    "biases = np.random.beta(0.75, 0.75, size=(n_questions, n_clusters))\n",
    "\n",
    "\n",
    "def expectation(answers, biases, p_clusters):\n",
    "    # In this function we create our expectations.\n",
    "\n",
    "    # This is probably not the correct answer!\n",
    "    people = np.random.rand(n_people, n_clusters)\n",
    "\n",
    "    # normalize the distributions\n",
    "    people = people / people.sum(axis=1, keepdims=1)\n",
    "    return people\n",
    "\n",
    "\n",
    "def maximization(answers, people):\n",
    "    # Treating all the data as visible, now infer the parameters for the model.\n",
    "    for i in range(answers.shape[0]):\n",
    "        biases = answers[i].mean()\n",
    "    \n",
    "    # This is probably not the correct answer!\n",
    "#     biases = np.zeros((n_questions, n_clusters)) + 0.5\n",
    "    return biases\n",
    "\n",
    "\n",
    "for step in range(10):\n",
    "    people = expectation(answers, biases, p_clusters)\n",
    "    biases = maximization(answers, people)\n",
    "\n",
    "print(biases)\n",
    "print(people)"
   ]
  },
  {
   "cell_type": "code",
   "execution_count": null,
   "metadata": {},
   "outputs": [],
   "source": []
  }
 ],
 "metadata": {
  "kernelspec": {
   "display_name": "Python 3",
   "language": "python",
   "name": "python3"
  },
  "language_info": {
   "codemirror_mode": {
    "name": "ipython",
    "version": 3
   },
   "file_extension": ".py",
   "mimetype": "text/x-python",
   "name": "python",
   "nbconvert_exporter": "python",
   "pygments_lexer": "ipython3",
   "version": "3.7.0"
  }
 },
 "nbformat": 4,
 "nbformat_minor": 2
}
